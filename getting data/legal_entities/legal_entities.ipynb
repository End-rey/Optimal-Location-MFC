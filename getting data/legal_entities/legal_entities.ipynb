{
 "cells": [
  {
   "cell_type": "code",
   "execution_count": null,
   "metadata": {},
   "outputs": [],
   "source": [
    "from geopy.extra.rate_limiter import RateLimiter\n",
    "from geopy.geocoders import Nominatim\n",
    "import pandas as pd\n",
    "from tqdm import tqdm\n",
    "\n",
    "tqdm.pandas()"
   ]
  },
  {
   "cell_type": "code",
   "execution_count": null,
   "metadata": {},
   "outputs": [],
   "source": [
    "geolocator = Nominatim(user_agent=\"UrbanTopologyAnalysisService\")\n",
    "geocode = RateLimiter(geolocator.geocode, min_delay_seconds=1)"
   ]
  },
  {
   "cell_type": "code",
   "execution_count": null,
   "metadata": {},
   "outputs": [],
   "source": [
    "data = pd.read_csv(\"../../data/legal_entities.csv\", index_col=0)\n",
    "data"
   ]
  },
  {
   "cell_type": "code",
   "execution_count": null,
   "metadata": {},
   "outputs": [],
   "source": [
    "data[\"Количество торговых объектов местного значения, ед.\"] = data[\"Количество торговых объектов местного значения, ед.\"].apply(lambda x: int(x.replace(\" \", \"\")) if x != \"н/д\" else None)\n",
    "data"
   ]
  },
  {
   "cell_type": "code",
   "execution_count": null,
   "metadata": {},
   "outputs": [],
   "source": [
    "data_not_null = data.loc[~data[\"Количество торговых объектов местного значения, ед.\"].isnull()]\n",
    "data_not_null"
   ]
  },
  {
   "cell_type": "code",
   "execution_count": null,
   "metadata": {},
   "outputs": [],
   "source": [
    "clear_data = data_not_null.drop(data_not_null[data_not_null[\"№ п/п\"].str.len() <= 3].index)\n",
    "clear_data"
   ]
  },
  {
   "cell_type": "code",
   "execution_count": null,
   "metadata": {},
   "outputs": [],
   "source": [
    "clear_data.loc[clear_data[\"Наименование внутригородского муниципального образования\"].str.startswith(\"поселок\"), \"Наименование внутригородского муниципального образования\"] = clear_data.loc[clear_data[\"Наименование внутригородского муниципального образования\"].str.startswith(\"поселок\"), \"Наименование внутригородского муниципального образования\"].apply(lambda x: x.replace(\"поселок \", \"\"))\n",
    "clear_data.loc[clear_data[\"Наименование внутригородского муниципального образования\"].str.startswith(\"поселок\")]"
   ]
  },
  {
   "cell_type": "code",
   "execution_count": null,
   "metadata": {},
   "outputs": [],
   "source": [
    "def apply_geocode(area):\n",
    "    location = geocode(area + \", Санкт-Петербург\")\n",
    "    return (location.latitude, location.longitude) if location else None\n",
    "\n",
    "clear_data[\"Геопозиция\"] = clear_data[\"Наименование внутригородского муниципального образования\"].progress_apply(apply_geocode)"
   ]
  },
  {
   "cell_type": "code",
   "execution_count": null,
   "metadata": {},
   "outputs": [],
   "source": [
    "clear_data.loc[clear_data[\"Геопозиция\"].isnull()]"
   ]
  },
  {
   "cell_type": "code",
   "execution_count": null,
   "metadata": {},
   "outputs": [],
   "source": [
    "clear_data.to_csv(\"legal_entities.csv\")"
   ]
  }
 ],
 "metadata": {
  "kernelspec": {
   "display_name": "venv",
   "language": "python",
   "name": "python3"
  },
  "language_info": {
   "codemirror_mode": {
    "name": "ipython",
    "version": 3
   },
   "file_extension": ".py",
   "mimetype": "text/x-python",
   "name": "python",
   "nbconvert_exporter": "python",
   "pygments_lexer": "ipython3",
   "version": "3.11.4"
  },
  "orig_nbformat": 4
 },
 "nbformat": 4,
 "nbformat_minor": 2
}
