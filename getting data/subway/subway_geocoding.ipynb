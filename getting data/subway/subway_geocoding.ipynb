{
 "cells": [
  {
   "cell_type": "code",
   "execution_count": null,
   "metadata": {},
   "outputs": [],
   "source": [
    "import pandas as pd\n",
    "import numpy as np"
   ]
  },
  {
   "cell_type": "code",
   "execution_count": null,
   "metadata": {},
   "outputs": [],
   "source": [
    "passangers = pd.read_csv(\n",
    "    \"../../data/Пассажирообороты  метрополитена усреднённые.csv\",\n",
    "    encoding=\"cp1251\",\n",
    "    delimiter=\";\",\n",
    "    engine=\"python\"\n",
    ")"
   ]
  },
  {
   "cell_type": "code",
   "execution_count": null,
   "metadata": {},
   "outputs": [],
   "source": [
    "subways = pd.read_csv(\n",
    "    \"../../data/subway_entrances.csv\",\n",
    "    delimiter=\"\\t\",\n",
    "    engine=\"python\",\n",
    "    index_col=[\"Name\"]\n",
    ")\n",
    "subways = subways.drop('Unnamed: 0', axis=1)"
   ]
  },
  {
   "cell_type": "code",
   "execution_count": null,
   "metadata": {},
   "outputs": [],
   "source": [
    "new_data = pd.DataFrame(\n",
    "    {\"Название ОП\": [], \"Геопозиция\": [], \"Пассажирооборот\": []})\n",
    "\n",
    "for i in range(0, passangers.shape[0], 4):\n",
    "    weight = (passangers.iloc[i, 6:].sum()*5+passangers.iloc[i+1, 6:].sum()*2)/7\n",
    "    weight += (passangers.iloc[i+2, 6:].sum()*5+passangers.iloc[i+1+2, 6:].sum()*2)/7\n",
    "    row = [passangers.iloc[i, 1], None, weight]\n",
    "    new_data = pd.concat(\n",
    "        [pd.DataFrame([row], columns=new_data.columns), new_data], ignore_index=True)\n",
    "\n",
    "new_data"
   ]
  },
  {
   "cell_type": "code",
   "execution_count": null,
   "metadata": {},
   "outputs": [],
   "source": [
    "for i in [1, 2]:\n",
    "    zenit1 = new_data.loc[new_data[\"Название ОП\"] == f\"Зенит-{i}/1\"]\n",
    "    zenit2 = new_data.loc[new_data[\"Название ОП\"] == f\"Зенит-{i}/2\"]\n",
    "    row = [f\"Зенит - {i}\", None,\n",
    "            zenit1.iloc[0, 2] + zenit2.iloc[0, 2]]\n",
    "    new_data = pd.concat(\n",
    "        [pd.DataFrame([row], columns=new_data.columns), new_data], ignore_index=True)\n",
    "    \n",
    "    new_data = new_data.drop(\n",
    "        new_data.index[new_data[\"Название ОП\"] == f\"Зенит-{i}/1\"])\n",
    "    new_data = new_data.drop(\n",
    "        new_data.index[new_data[\"Название ОП\"] == f\"Зенит-{i}/2\"])\n",
    "\n",
    "new_data"
   ]
  },
  {
   "cell_type": "code",
   "execution_count": null,
   "metadata": {},
   "outputs": [],
   "source": [
    "kupchino2 = new_data.loc[new_data[\"Название ОП\"] == \"Купчино - 2\"]\n",
    "ladoga1 = new_data.loc[new_data[\"Название ОП\"] == \"Ладожская 1\"]\n",
    "new_data.loc[new_data[\"Название ОП\"] ==\n",
    "                \"Ладожская\"].iloc[0, 2] += ladoga1.iloc[0, 2]\n",
    "new_data.loc[new_data[\"Название ОП\"] ==\n",
    "                \"Купчино\"].iloc[0, 2] += kupchino2.iloc[0, 2]\n",
    "new_data = new_data.drop(\n",
    "    new_data.index[new_data[\"Название ОП\"] == \"Ладожская 1\"])\n",
    "new_data = new_data.drop(\n",
    "    new_data.index[new_data[\"Название ОП\"] == \"Купчино - 2\"])"
   ]
  },
  {
   "cell_type": "code",
   "execution_count": null,
   "metadata": {},
   "outputs": [],
   "source": [
    "new_data"
   ]
  },
  {
   "cell_type": "code",
   "execution_count": null,
   "metadata": {},
   "outputs": [],
   "source": [
    "subways"
   ]
  },
  {
   "cell_type": "code",
   "execution_count": null,
   "metadata": {},
   "outputs": [],
   "source": [
    "for i in range(new_data.shape[0]):\n",
    "    name = new_data.iloc[i, 0]\n",
    "    location = subways.loc[name]\n",
    "    new_data.iloc[i, 1] = location\n",
    "new_data = new_data.set_index(\"Название ОП\")\n",
    "\n",
    "new_data"
   ]
  },
  {
   "cell_type": "code",
   "execution_count": null,
   "metadata": {},
   "outputs": [],
   "source": [
    "new_data.to_csv(\"../../data/result/subway_passangers_traffic.csv\", sep=\",\", encoding=\"utf-8\")"
   ]
  }
 ],
 "metadata": {
  "kernelspec": {
   "display_name": "venv",
   "language": "python",
   "name": "python3"
  },
  "language_info": {
   "codemirror_mode": {
    "name": "ipython",
    "version": 3
   },
   "file_extension": ".py",
   "mimetype": "text/x-python",
   "name": "python",
   "nbconvert_exporter": "python",
   "pygments_lexer": "ipython3",
   "version": "3.11.4"
  },
  "orig_nbformat": 4
 },
 "nbformat": 4,
 "nbformat_minor": 2
}
