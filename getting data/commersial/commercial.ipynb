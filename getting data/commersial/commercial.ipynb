{
 "cells": [
  {
   "cell_type": "code",
   "execution_count": null,
   "metadata": {},
   "outputs": [],
   "source": [
    "from geopy.extra.rate_limiter import RateLimiter\n",
    "from geopy.geocoders import Nominatim\n",
    "import pandas as pd\n",
    "from tqdm import tqdm\n",
    "\n",
    "tqdm.pandas()"
   ]
  },
  {
   "cell_type": "code",
   "execution_count": null,
   "metadata": {},
   "outputs": [],
   "source": [
    "geolocator = Nominatim(user_agent=\"UrbanTopologyAnalysisService\")\n",
    "geocode = RateLimiter(geolocator.geocode, min_delay_seconds=1)"
   ]
  },
  {
   "cell_type": "code",
   "execution_count": null,
   "metadata": {},
   "outputs": [],
   "source": [
    "addresses = pd.read_csv(\"../../data/raw data/Нежилые_объекты.csv\", index_col=1)"
   ]
  },
  {
   "cell_type": "code",
   "execution_count": null,
   "metadata": {},
   "outputs": [],
   "source": [
    "addresses"
   ]
  },
  {
   "cell_type": "markdown",
   "metadata": {},
   "source": [
    "### Data Refactor"
   ]
  },
  {
   "cell_type": "code",
   "execution_count": null,
   "metadata": {},
   "outputs": [],
   "source": [
    "def refactor_street_apply(street):\n",
    "    res = \"\"\n",
    "    list_addresses = street.split(\",\")\n",
    "    if (len(list_addresses) > 1):\n",
    "        list_addresses.reverse()\n",
    "        list_addresses = [string.strip() for string in list_addresses]\n",
    "        res = \", \".join(list_addresses)\n",
    "    else:\n",
    "        res = list_addresses[0]\n",
    "    return res"
   ]
  },
  {
   "cell_type": "code",
   "execution_count": null,
   "metadata": {},
   "outputs": [],
   "source": [
    "addresses[\"Улица\"] = addresses[\"Улица\"].progress_apply(refactor_street_apply)"
   ]
  },
  {
   "cell_type": "code",
   "execution_count": null,
   "metadata": {},
   "outputs": [],
   "source": [
    "def refactor_house_apply(house):\n",
    "    if type(house) != str:\n",
    "        return \" \"\n",
    "    else:\n",
    "        return house"
   ]
  },
  {
   "cell_type": "code",
   "execution_count": null,
   "metadata": {},
   "outputs": [],
   "source": [
    "addresses[\"Дом\"] = addresses[\"Дом\"].progress_apply(refactor_house_apply)"
   ]
  },
  {
   "cell_type": "code",
   "execution_count": null,
   "metadata": {},
   "outputs": [],
   "source": [
    "data_with_geo = pd.read_csv(\"../../data/result/commercial.csv\", index_col=0)\n",
    "data_with_geo"
   ]
  },
  {
   "cell_type": "code",
   "execution_count": null,
   "metadata": {},
   "outputs": [],
   "source": [
    "new_data = pd.DataFrame({\"Адрес\": [], \"Геопозиция\": [], \"Площадь\": []})\n",
    "\n",
    "for i in range(addresses.shape[0]-1, -1, -1):\n",
    "  street = str(addresses.iloc[i][\"Дом\"]) + \", \" + addresses.iloc[i][\"Улица\"] + \", Санкт-Петербург\"\n",
    "  exist_in_geo_data = data_with_geo.loc[data_with_geo[\"Адрес\"] == street, \"Геопозиция\"].array\n",
    "  row = [\n",
    "          street,\n",
    "          exist_in_geo_data[0] if len(exist_in_geo_data) != 0 else None,\n",
    "          addresses.iloc[i][\"Площадь объекта\"]\n",
    "        ]\n",
    "  new_data = pd.concat([pd.DataFrame([row], columns=new_data.columns), new_data], ignore_index=True)\n",
    "    \n",
    "# new_data = new_data.drop_duplicates()\n",
    "new_data"
   ]
  },
  {
   "cell_type": "code",
   "execution_count": null,
   "metadata": {},
   "outputs": [],
   "source": [
    "new_data.loc[new_data[\"Геопозиция\"].isnull()]"
   ]
  },
  {
   "cell_type": "code",
   "execution_count": null,
   "metadata": {},
   "outputs": [],
   "source": [
    "def apply_geocode(street):\n",
    "    location = geocode(street)\n",
    "    return (location.latitude, location.longitude) if location else None\n",
    "new_data[\"Геопозиция\"] = new_data[\"Адрес\"].progress_apply(apply_geocode)"
   ]
  },
  {
   "cell_type": "code",
   "execution_count": null,
   "metadata": {},
   "outputs": [],
   "source": [
    "def apply_add_lat(geop):\n",
    "    return geop[1:-1].split(\",\")[0]\n",
    "\n",
    "def apply_add_lon(geop):\n",
    "    return geop[1:-1].split(\",\")[1]\n",
    "\n",
    "new_data[\"longitude\"] = new_data[\"Геопозиция\"].apply(apply_add_lon)\n",
    "new_data"
   ]
  },
  {
   "cell_type": "code",
   "execution_count": null,
   "metadata": {},
   "outputs": [],
   "source": [
    "new_data.to_csv(\"../../data/result/commercial_with_area.csv\")"
   ]
  },
  {
   "cell_type": "code",
   "execution_count": null,
   "metadata": {},
   "outputs": [],
   "source": [
    "null_new_data = new_data.loc[new_data[\"Геопозиция\"].isnull()]\n",
    "null_new_data"
   ]
  },
  {
   "cell_type": "code",
   "execution_count": null,
   "metadata": {},
   "outputs": [],
   "source": [
    "null_new_data.to_csv(\"./null.csv\")"
   ]
  },
  {
   "cell_type": "code",
   "execution_count": null,
   "metadata": {},
   "outputs": [],
   "source": [
    "def apply_geocode(street):\n",
    "    location = geocode(street)\n",
    "    return (location.latitude, location.longitude) if location else None\n",
    "new_data.loc[new_data[\"Геопозиция\"].isnull(), \"Геопозиция\"] = new_data.loc[new_data[\"Геопозиция\"].isnull(), \"Адрес\"].progress_apply(apply_geocode)"
   ]
  },
  {
   "cell_type": "markdown",
   "metadata": {},
   "source": [
    "### Data analysis"
   ]
  },
  {
   "cell_type": "code",
   "execution_count": null,
   "metadata": {},
   "outputs": [],
   "source": [
    "streets = addresses[\"Улица\"].to_list()"
   ]
  },
  {
   "cell_type": "code",
   "execution_count": null,
   "metadata": {},
   "outputs": [],
   "source": [
    "streets"
   ]
  },
  {
   "cell_type": "code",
   "execution_count": null,
   "metadata": {},
   "outputs": [],
   "source": [
    "big_streets = []\n",
    "for street in streets:\n",
    "    if len(street.split(\",\")) > 1:\n",
    "        big_streets.append(street)\n",
    "\n",
    "print(len(big_streets))"
   ]
  },
  {
   "cell_type": "code",
   "execution_count": null,
   "metadata": {},
   "outputs": [],
   "source": [
    "first_part_big_streets = []\n",
    "for street in big_streets:\n",
    "    first_part_big_streets.append(street.split(\",\")[0])\n",
    "\n",
    "first_part_big_streets = list(set(first_part_big_streets))\n",
    "print(first_part_big_streets)"
   ]
  },
  {
   "cell_type": "code",
   "execution_count": null,
   "metadata": {},
   "outputs": [],
   "source": [
    "standart_streets = []\n",
    "for street in streets:\n",
    "    if len(street.split(\",\")) == 1:\n",
    "        standart_streets.append(street)\n",
    "\n",
    "print(len(standart_streets))"
   ]
  },
  {
   "cell_type": "code",
   "execution_count": null,
   "metadata": {},
   "outputs": [],
   "source": [
    "null_houses = addresses.loc[addresses[\"Дом\"].isnull()]"
   ]
  },
  {
   "cell_type": "code",
   "execution_count": null,
   "metadata": {},
   "outputs": [],
   "source": [
    "print(null_houses.shape[0])"
   ]
  },
  {
   "cell_type": "code",
   "execution_count": null,
   "metadata": {},
   "outputs": [],
   "source": [
    "null_houses"
   ]
  },
  {
   "cell_type": "markdown",
   "metadata": {},
   "source": [
    "### Take data for one area"
   ]
  },
  {
   "cell_type": "code",
   "execution_count": null,
   "metadata": {},
   "outputs": [],
   "source": [
    "data_for_viborg = pd.DataFrame({\"Адрес\": [], \"Геопозиция\": []})\n",
    "viborg_residents = addresses.loc[addresses[\"Район\"] == \"Выборгский\"]\n",
    "\n",
    "for i in range(viborg_residents.shape[0]):\n",
    "    row = [\n",
    "            str(viborg_residents.iloc[i][\"Дом\"]) + \", \" + viborg_residents.iloc[i][\"Улица\"] + \", Санкт-Петербург\",\n",
    "            None\n",
    "          ]\n",
    "    data_for_viborg = pd.concat([pd.DataFrame([row], columns=data_for_viborg.columns), data_for_viborg], ignore_index=True)"
   ]
  },
  {
   "cell_type": "code",
   "execution_count": null,
   "metadata": {},
   "outputs": [],
   "source": [
    "data_for_viborg"
   ]
  },
  {
   "cell_type": "code",
   "execution_count": null,
   "metadata": {},
   "outputs": [],
   "source": [
    "data_for_viborg = data_for_viborg.iloc[:60]"
   ]
  },
  {
   "cell_type": "code",
   "execution_count": null,
   "metadata": {},
   "outputs": [],
   "source": [
    "geocode = RateLimiter(geolocator.geocode, min_delay_seconds=1)\n",
    "data_for_viborg[\"Геопозиция\"] = data_for_viborg[\"Адрес\"].progress_apply(geocode)\n",
    "data_for_viborg[\"Геопозиция\"] = data_for_viborg[\"Геопозиция\"].apply(lambda loc: (loc.latitude, loc.longitude) if loc else None)"
   ]
  },
  {
   "cell_type": "code",
   "execution_count": null,
   "metadata": {},
   "outputs": [],
   "source": [
    "data_for_viborg.to_csv(\"Viborg.csv\")"
   ]
  },
  {
   "cell_type": "code",
   "execution_count": null,
   "metadata": {},
   "outputs": [],
   "source": [
    "null_in_viborg = data_for_viborg.loc[data_for_viborg[\"Геопозиция\"].isnull()]"
   ]
  },
  {
   "cell_type": "code",
   "execution_count": null,
   "metadata": {},
   "outputs": [],
   "source": [
    "null_in_viborg"
   ]
  },
  {
   "cell_type": "code",
   "execution_count": null,
   "metadata": {},
   "outputs": [],
   "source": [
    "def apply_geocode(street):\n",
    "    location = geocode(street)\n",
    "    return (location.latitude, location.longitude) if location else None\n",
    "data_for_viborg.loc[data_for_viborg[\"Геопозиция\"].isnull(), \"Геопозиция\"] = data_for_viborg.loc[data_for_viborg[\"Геопозиция\"].isnull(), \"Адрес\"].progress_apply(apply_geocode)"
   ]
  },
  {
   "cell_type": "markdown",
   "metadata": {},
   "source": [
    "#### Krasnoselsky"
   ]
  },
  {
   "cell_type": "code",
   "execution_count": null,
   "metadata": {},
   "outputs": [],
   "source": [
    "data_for_krasnoselsky = pd.DataFrame({\"Адрес\": [], \"Геопозиция\": []})\n",
    "krasnoselsky_residents = addresses.loc[addresses[\"Район\"] == \"Красносельский\"]\n",
    "\n",
    "for i in range(krasnoselsky_residents.shape[0]):\n",
    "    row = [\n",
    "            str(krasnoselsky_residents.iloc[i][\"Дом\"]) + \", \" + krasnoselsky_residents.iloc[i][\"Улица\"] + \", Санкт-Петербург\",\n",
    "            None\n",
    "          ]\n",
    "    data_for_krasnoselsky = pd.concat([pd.DataFrame([row], columns=data_for_krasnoselsky.columns), data_for_krasnoselsky], ignore_index=True)\n",
    "\n",
    "data_for_krasnoselsky"
   ]
  },
  {
   "cell_type": "code",
   "execution_count": null,
   "metadata": {},
   "outputs": [],
   "source": [
    "geocode = RateLimiter(geolocator.geocode, min_delay_seconds=1)\n",
    "data_for_krasnoselsky[\"Геопозиция\"] = data_for_krasnoselsky[\"Адрес\"].progress_apply(geocode)\n",
    "data_for_krasnoselsky[\"Геопозиция\"] = data_for_krasnoselsky[\"Геопозиция\"].apply(lambda loc: (loc.latitude, loc.longitude) if loc else None)\n",
    "data_for_krasnoselsky.to_csv(\"Krasnoselsky.csv\")"
   ]
  },
  {
   "cell_type": "code",
   "execution_count": null,
   "metadata": {},
   "outputs": [],
   "source": [
    "null_in_krasnoselsky = data_for_krasnoselsky.loc[data_for_krasnoselsky[\"Геопозиция\"].isnull()]\n",
    "null_in_krasnoselsky"
   ]
  }
 ],
 "metadata": {
  "kernelspec": {
   "display_name": "venv",
   "language": "python",
   "name": "python3"
  },
  "language_info": {
   "codemirror_mode": {
    "name": "ipython",
    "version": 3
   },
   "file_extension": ".py",
   "mimetype": "text/x-python",
   "name": "python",
   "nbconvert_exporter": "python",
   "pygments_lexer": "ipython3",
   "version": "3.11.4"
  },
  "orig_nbformat": 4
 },
 "nbformat": 4,
 "nbformat_minor": 2
}
