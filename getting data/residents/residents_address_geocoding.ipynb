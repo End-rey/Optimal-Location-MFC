{
 "cells": [
  {
   "cell_type": "markdown",
   "metadata": {},
   "source": [
    "## Main"
   ]
  },
  {
   "cell_type": "code",
   "execution_count": null,
   "metadata": {},
   "outputs": [],
   "source": [
    "from geopy.extra.rate_limiter import RateLimiter\n",
    "from geopy.geocoders import Nominatim\n",
    "from geopy.location import Location\n",
    "import pandas as pd\n",
    "from tqdm import tqdm\n",
    "\n",
    "tqdm.pandas()"
   ]
  },
  {
   "cell_type": "code",
   "execution_count": null,
   "metadata": {},
   "outputs": [],
   "source": [
    "geolocator = Nominatim(user_agent=\"Urban-Topology-Analysis-Service1\")"
   ]
  },
  {
   "cell_type": "code",
   "execution_count": null,
   "metadata": {},
   "outputs": [],
   "source": [
    "residents = pd.read_csv(\n",
    "    \"../../data/Кол_жильцов_подомовой_список.csv\"\n",
    "    )"
   ]
  },
  {
   "cell_type": "code",
   "execution_count": null,
   "metadata": {},
   "outputs": [],
   "source": [
    "residents"
   ]
  },
  {
   "cell_type": "code",
   "execution_count": null,
   "metadata": {},
   "outputs": [],
   "source": [
    "new_data = pd.DataFrame({\"Адрес\": [], \"Геопозиция\": [], \"Кол-во жильцов\": []})\n",
    "\n",
    "for i in range(residents.shape[0]):\n",
    "    street = residents.iloc[i, 1]\n",
    "    city = \", Санкт-Петербург\"\n",
    "    if \"КИНГИСЕППСКАЯ\" in street or \"РЫБАЦКАЯ УЛ., ЛОМОНОСОВСКИЙ РАЙОН\" in street or \"МАРЬИНО, ЛОМОНОСОВСКИЙ РАЙОН\" in street:\n",
    "        city = \"\"\n",
    "    row = [\n",
    "            str(residents.iloc[i, 2]) + \", \" + residents.iloc[i, 1] + city,\n",
    "            None,\n",
    "            residents.iloc[i, 3:].sum()\n",
    "          ]\n",
    "    new_data = pd.concat([pd.DataFrame([row], columns=new_data.columns), new_data], ignore_index=True)\n",
    "\n",
    "print(new_data)"
   ]
  },
  {
   "cell_type": "code",
   "execution_count": null,
   "metadata": {},
   "outputs": [],
   "source": [
    "geocode = RateLimiter(geolocator.geocode, min_delay_seconds=1)\n",
    "new_data[\"Геопозиция\"] = new_data[\"Адрес\"].progress_apply(geocode)\n",
    "new_data[\"Геопозиция\"] = new_data[\"Геопозиция\"].apply(lambda loc: (loc.latitude, loc.longitude) if loc else None)"
   ]
  },
  {
   "cell_type": "code",
   "execution_count": null,
   "metadata": {},
   "outputs": [],
   "source": [
    "points = pd.read_csv(\"../data/result/Residents.csv\")"
   ]
  },
  {
   "cell_type": "code",
   "execution_count": null,
   "metadata": {},
   "outputs": [],
   "source": [
    "geocode = RateLimiter(geolocator.geocode, min_delay_seconds=1)\n",
    "\n",
    "def apply_geocode(street):\n",
    "    location = geocode(street)\n",
    "    return (location.latitude, location.longitude) if location else None\n",
    "\n",
    "points.loc[~points[\"Геопозиция\"].str.startswith(\"(\"), \"Геопозиция\"] = points.loc[~points[\"Геопозиция\"].str.startswith(\"(\"), \"Геопозиция\"].progress_apply(apply_geocode)"
   ]
  },
  {
   "cell_type": "code",
   "execution_count": null,
   "metadata": {},
   "outputs": [],
   "source": [
    "points.loc[points[\"Геопозиция\"].isnull(), \"Геопозиция\"] = points.loc[points[\"Геопозиция\"].isnull(), \"Адрес\"].progress_apply(apply_geocode)"
   ]
  },
  {
   "cell_type": "code",
   "execution_count": null,
   "metadata": {},
   "outputs": [],
   "source": [
    "points.to_csv(\"../../data/result/Residents.csv\")"
   ]
  },
  {
   "cell_type": "code",
   "execution_count": null,
   "metadata": {},
   "outputs": [],
   "source": [
    "null_in_points = points.loc[points[\"Геопозиция\"].isnull()]"
   ]
  },
  {
   "cell_type": "code",
   "execution_count": null,
   "metadata": {},
   "outputs": [],
   "source": [
    "null_in_points"
   ]
  },
  {
   "cell_type": "code",
   "execution_count": null,
   "metadata": {},
   "outputs": [],
   "source": [
    "\n",
    "new_data.to_csv(\"Residents.csv\")"
   ]
  },
  {
   "cell_type": "markdown",
   "metadata": {},
   "source": [
    "## Refactor null data"
   ]
  },
  {
   "cell_type": "code",
   "execution_count": null,
   "metadata": {},
   "outputs": [],
   "source": [
    "null_in_new_data = new_data.loc[new_data[\"Геопозиция\"].isnull()]"
   ]
  },
  {
   "cell_type": "code",
   "execution_count": null,
   "metadata": {},
   "outputs": [],
   "source": [
    "null_in_new_data.to_csv(\"./null_data.csv\")"
   ]
  },
  {
   "cell_type": "code",
   "execution_count": null,
   "metadata": {},
   "outputs": [],
   "source": [
    "for i in range(27417, 27456):\n",
    "    # parts = new_data.iloc[i, 0].split(\",\")\n",
    "    # new_data.iloc[i, 0] = \",\".join(parts[:-1])\n",
    "    new_data.iloc[i, 0] = new_data.iloc[i, 0].replace(\"ПЕРВОГО\", \"1\")\n",
    "    print(new_data.iloc[i, 0])"
   ]
  },
  {
   "cell_type": "code",
   "execution_count": null,
   "metadata": {},
   "outputs": [],
   "source": [
    "def apply_geocode(street):\n",
    "    location = geocode(street)\n",
    "    return (location.latitude, location.longitude) if location else None\n",
    "new_data.loc[new_data[\"Геопозиция\"].isnull(), \"Геопозиция\"] = new_data.loc[new_data[\"Геопозиция\"].isnull(), \"Адрес\"].progress_apply(apply_geocode)"
   ]
  },
  {
   "cell_type": "markdown",
   "metadata": {},
   "source": [
    "## Data analysis"
   ]
  },
  {
   "cell_type": "code",
   "execution_count": null,
   "metadata": {},
   "outputs": [],
   "source": [
    "streets = []\n",
    "area = []\n",
    "\n",
    "for i in range(residents.shape[0]):\n",
    "    area.append(residents.iloc[i, 0])\n",
    "    streets.append(residents.iloc[i, 1])\n",
    "\n",
    "area = list(set(area))\n",
    "set_streets = list(set(streets))"
   ]
  },
  {
   "cell_type": "code",
   "execution_count": null,
   "metadata": {},
   "outputs": [],
   "source": [
    "len(set_streets)"
   ]
  },
  {
   "cell_type": "markdown",
   "metadata": {},
   "source": [
    "### Parse all streets with digits"
   ]
  },
  {
   "cell_type": "code",
   "execution_count": null,
   "metadata": {},
   "outputs": [],
   "source": [
    "import re"
   ]
  },
  {
   "cell_type": "code",
   "execution_count": null,
   "metadata": {},
   "outputs": [],
   "source": [
    "streets_with_digits = []\n",
    "for street in set_streets:\n",
    "    match = re.fullmatch(\".*\\d+.*\", street)\n",
    "    if match:\n",
    "        streets_with_digits.append(street)\n",
    "\n",
    "len(streets_with_digits)"
   ]
  },
  {
   "cell_type": "code",
   "execution_count": null,
   "metadata": {},
   "outputs": [],
   "source": [
    "streets_with_digits"
   ]
  },
  {
   "cell_type": "markdown",
   "metadata": {},
   "source": [
    "### Sort streets by length"
   ]
  },
  {
   "cell_type": "code",
   "execution_count": null,
   "metadata": {},
   "outputs": [],
   "source": [
    "big_streets = []\n",
    "for street in set_streets:\n",
    "    if (len(street.split(\" \")) > 2):\n",
    "        big_streets.append(street)\n",
    "\n",
    "len(big_streets)"
   ]
  },
  {
   "cell_type": "code",
   "execution_count": null,
   "metadata": {},
   "outputs": [],
   "source": [
    "big_streets"
   ]
  },
  {
   "cell_type": "code",
   "execution_count": null,
   "metadata": {},
   "outputs": [],
   "source": [
    "standart_streets = []\n",
    "for street in set_streets:\n",
    "    if (len(street.split(\" \")) == 2):\n",
    "        standart_streets.append(street)\n",
    "\n",
    "len(standart_streets)"
   ]
  },
  {
   "cell_type": "code",
   "execution_count": null,
   "metadata": {},
   "outputs": [],
   "source": [
    "standart_streets"
   ]
  },
  {
   "cell_type": "markdown",
   "metadata": {},
   "source": [
    "### Take the last part of streets"
   ]
  },
  {
   "cell_type": "code",
   "execution_count": null,
   "metadata": {},
   "outputs": [],
   "source": [
    "last_part = []\n",
    "for street in set_streets:\n",
    "    part = street.split(\" \")[-1]\n",
    "    if part.startswith(\"УЛ.\"):\n",
    "        last_part.append(part[3:])\n",
    "    elif part.startswith(\"ПЕР.\"):\n",
    "        last_part.append(part[4:])\n",
    "    else:\n",
    "        last_part.append(part)\n",
    "\n",
    "last_part = list(set(last_part))\n",
    "len(last_part)"
   ]
  },
  {
   "cell_type": "code",
   "execution_count": null,
   "metadata": {},
   "outputs": [],
   "source": [
    "sorted(last_part)"
   ]
  },
  {
   "cell_type": "markdown",
   "metadata": {},
   "source": [
    "## Take data for one area"
   ]
  },
  {
   "cell_type": "code",
   "execution_count": null,
   "metadata": {},
   "outputs": [],
   "source": [
    "for a in area:\n",
    "    print(residents.loc[residents[\"Район\"] == a].shape)\n"
   ]
  },
  {
   "cell_type": "code",
   "execution_count": null,
   "metadata": {},
   "outputs": [],
   "source": [
    "residents[\"Район\"].nunique()"
   ]
  },
  {
   "cell_type": "code",
   "execution_count": null,
   "metadata": {},
   "outputs": [],
   "source": [
    "data_for_pushkin = pd.DataFrame({\"Адрес\": [], \"Геопозиция\": [], \"Кол-во жильцов\": []})\n",
    "pushkin_residents = residents.loc[residents[\"Район\"] == \"ПУШКИНСКИЙ\"]\n",
    "\n",
    "for i in range(pushkin_residents.shape[0]):\n",
    "    row = [\n",
    "            pushkin_residents.iloc[i, 2] + \", \" + pushkin_residents.iloc[i, 1] + \", Санкт-Петербург\",\n",
    "            None,\n",
    "            pushkin_residents.iloc[i, 3:].sum()\n",
    "          ]\n",
    "    data_for_pushkin = pd.concat([pd.DataFrame([row], columns=data_for_pushkin.columns), data_for_pushkin], ignore_index=True)"
   ]
  },
  {
   "cell_type": "code",
   "execution_count": null,
   "metadata": {},
   "outputs": [],
   "source": [
    "data_for_pushkin"
   ]
  },
  {
   "cell_type": "code",
   "execution_count": null,
   "metadata": {},
   "outputs": [],
   "source": [
    "geocode = RateLimiter(geolocator.geocode, min_delay_seconds=1)\n",
    "data_for_pushkin[\"Геопозиция\"] = data_for_pushkin[\"Адрес\"].progress_apply(geocode)\n",
    "data_for_pushkin[\"Геопозиция\"] = data_for_pushkin[\"Геопозиция\"].apply(lambda loc: (loc.latitude, loc.longitude) if loc else None)"
   ]
  },
  {
   "cell_type": "code",
   "execution_count": null,
   "metadata": {},
   "outputs": [],
   "source": [
    "data_for_pushkin.to_csv(\"Pushkin.csv\", sep=\";\")"
   ]
  },
  {
   "cell_type": "code",
   "execution_count": null,
   "metadata": {},
   "outputs": [],
   "source": [
    "data_for_admiralt = pd.DataFrame({\"Адрес\": [], \"Геопозиция\": [], \"Кол-во жильцов\": []})\n",
    "admiralt_residents = residents.loc[residents[\"Район\"] == \"АДМИРАЛТЕЙСКИЙ\"]\n",
    "\n",
    "for i in range(admiralt_residents.shape[0]):\n",
    "    row = [\n",
    "            admiralt_residents.iloc[i, 2] + \", \" + admiralt_residents.iloc[i, 1] + \", Санкт-Петербург\",\n",
    "            None,\n",
    "            admiralt_residents.iloc[i, 3:].sum()\n",
    "          ]\n",
    "    data_for_admiralt = pd.concat([pd.DataFrame([row], columns=data_for_admiralt.columns), data_for_admiralt], ignore_index=True)"
   ]
  },
  {
   "cell_type": "code",
   "execution_count": null,
   "metadata": {},
   "outputs": [],
   "source": [
    "data_for_admiralt"
   ]
  },
  {
   "cell_type": "code",
   "execution_count": null,
   "metadata": {},
   "outputs": [],
   "source": [
    "geocode = RateLimiter(geolocator.geocode, min_delay_seconds=1)\n",
    "data_for_admiralt[\"Геопозиция\"] = data_for_admiralt[\"Адрес\"].progress_apply(geocode)\n",
    "data_for_admiralt[\"Геопозиция\"] = data_for_admiralt[\"Геопозиция\"].apply(lambda loc: (loc.latitude, loc.longitude) if loc else None)"
   ]
  },
  {
   "cell_type": "code",
   "execution_count": null,
   "metadata": {},
   "outputs": [],
   "source": [
    "vc_for_admiralt = data_for_admiralt[\"Геопозиция\"].value_counts()"
   ]
  },
  {
   "cell_type": "code",
   "execution_count": null,
   "metadata": {},
   "outputs": [],
   "source": [
    "vc_for_admiralt[vc_for_admiralt > 1]"
   ]
  }
 ],
 "metadata": {
  "kernelspec": {
   "display_name": "venv",
   "language": "python",
   "name": "python3"
  },
  "language_info": {
   "codemirror_mode": {
    "name": "ipython",
    "version": 3
   },
   "file_extension": ".py",
   "mimetype": "text/x-python",
   "name": "python",
   "nbconvert_exporter": "python",
   "pygments_lexer": "ipython3",
   "version": "3.11.4"
  },
  "orig_nbformat": 4
 },
 "nbformat": 4,
 "nbformat_minor": 2
}
