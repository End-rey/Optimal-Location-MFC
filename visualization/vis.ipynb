{
 "cells": [
  {
   "cell_type": "code",
   "execution_count": 1,
   "metadata": {},
   "outputs": [],
   "source": [
    "import argparse\n",
    "import folium\n",
    "import pandas as pd\n",
    "import colourmap as cm"
   ]
  },
  {
   "cell_type": "code",
   "execution_count": 2,
   "metadata": {},
   "outputs": [],
   "source": [
    "def get_top_clusters_df(df: pd.DataFrame, n: int) -> pd.DataFrame:\n",
    "    df_most_used_clusters = df.groupby(by=[\"class\"], as_index=False).count().sort_values(by=\"Адрес\", ascending=False).head(n)\n",
    "    df_most_used_clusters = df_most_used_clusters.loc[df_most_used_clusters[\"Адрес\"] > 100]\n",
    "    return df.loc[df[\"class\"].isin(df_most_used_clusters[\"class\"])]"
   ]
  },
  {
   "cell_type": "code",
   "execution_count": 3,
   "metadata": {},
   "outputs": [],
   "source": [
    "def create_marker(x, map):\n",
    "    coordinates = tuple(x[\"Геопозиция\"][1:-1].split(\",\"))\n",
    "    marker = folium.CircleMarker(location = coordinates,  \n",
    "                                 fill_opacity = 0.6, \n",
    "                                 radius = x[\"weight\"]*20,\n",
    "                                 popup = f\"{x['weight'], x.name, x['class']}\",\n",
    "                                 # fill_color = ,\n",
    "                                 color = x[\"color\"]).add_to(map)\n",
    "\n"
   ]
  },
  {
   "cell_type": "code",
   "execution_count": 4,
   "metadata": {},
   "outputs": [],
   "source": [
    "def create_df(path, weight_name, top=None):\n",
    "    df = pd.read_csv(path, index_col=0)\n",
    "    df = df.drop_duplicates()\n",
    "\n",
    "    if top is not None:\n",
    "        df = get_top_clusters_df(df, top)\n",
    "\n",
    "    max_weight = df[weight_name].max()\n",
    "    df[\"weight\"] = df[weight_name].apply(lambda loc: loc/max_weight)\n",
    "\n",
    "    df[\"color\"], palette = cm.fromlist(df[\"class\"], scheme=\"hex\", cmap=\"Spectral\")\n",
    "\n",
    "    return df"
   ]
  },
  {
   "cell_type": "code",
   "execution_count": 5,
   "metadata": {},
   "outputs": [],
   "source": [
    "def create_map(df: pd.DataFrame, file_name: str) -> None:\n",
    "    print(\"Creating map\")\n",
    "    spb = folium.Map(location=[59.9386, 30.3141], min_lat= 59.5, min_lon=29.5, max_lat=60.5, max_lon=30.8, max_bounds=True, zoom_start=10)\n",
    "    df.apply(lambda x: create_marker(x, spb), axis=1)\n",
    "    spb.save(f\"../data/html/{file_name}.html\")"
   ]
  },
  {
   "cell_type": "code",
   "execution_count": 6,
   "metadata": {},
   "outputs": [
    {
     "name": "stdout",
     "output_type": "stream",
     "text": [
      "Creating map\n"
     ]
    }
   ],
   "source": [
    "df_residents = create_df(\"../data/result/Residents_with_class.csv\", weight_name=\"Кол-во жильцов\")\n",
    "create_map(df_residents, file_name=\"residents\")"
   ]
  },
  {
   "cell_type": "code",
   "execution_count": 7,
   "metadata": {},
   "outputs": [
    {
     "name": "stdout",
     "output_type": "stream",
     "text": [
      "Creating map\n"
     ]
    }
   ],
   "source": [
    "df_subways = create_df(\"../data/result/subway_passangers_traffic_with_class.csv\", weight_name=\"Пассажирооборот\")\n",
    "create_map(df_subways, file_name=\"subways\")"
   ]
  }
 ],
 "metadata": {
  "kernelspec": {
   "display_name": "venv",
   "language": "python",
   "name": "python3"
  },
  "language_info": {
   "codemirror_mode": {
    "name": "ipython",
    "version": 3
   },
   "file_extension": ".py",
   "mimetype": "text/x-python",
   "name": "python",
   "nbconvert_exporter": "python",
   "pygments_lexer": "ipython3",
   "version": "3.11.4"
  },
  "orig_nbformat": 4
 },
 "nbformat": 4,
 "nbformat_minor": 2
}
