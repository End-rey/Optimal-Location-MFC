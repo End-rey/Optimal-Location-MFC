{
 "cells": [
  {
   "cell_type": "code",
   "execution_count": null,
   "metadata": {},
   "outputs": [],
   "source": [
    "import pandas as pd"
   ]
  },
  {
   "cell_type": "code",
   "execution_count": null,
   "metadata": {},
   "outputs": [],
   "source": [
    "def centroid(data_path:str, res_path:str, class_name:str = \"modularity_class\", weight_name:str=\"weight\"):\n",
    "    data = pd.read_csv(data_path, index_col=0)\n",
    "\n",
    "    classes = data[class_name].unique()\n",
    "\n",
    "    centroid = pd.DataFrame(columns=data.columns)\n",
    "\n",
    "    for cl in classes:\n",
    "        cluster = data.loc[data[class_name] == cl]\n",
    "        lon = cluster[\"longitude\"].sum()/cluster[\"longitude\"].count()\n",
    "        lat = cluster[\"latitude\"].sum()/cluster[\"latitude\"].count()\n",
    "        weight = cluster[weight_name].sum()\n",
    "        row = [\n",
    "               lon,\n",
    "               lat,\n",
    "               cl,\n",
    "               weight,\n",
    "               10]\n",
    "        lon_weighted = (cluster[\"longitude\"]*cluster[weight_name]).sum()/cluster[weight_name].sum()\n",
    "        lat_weighted = (cluster[\"latitude\"]*cluster[weight_name]).sum()/cluster[weight_name].sum()\n",
    "        data_weighted = cluster[weight_name].sum()\n",
    "        row_weighted = [\n",
    "               lon_weighted,\n",
    "               lat_weighted,\n",
    "               cl,\n",
    "               data_weighted,\n",
    "               11]\n",
    "\n",
    "        centroid = pd.concat([pd.DataFrame([row], columns=centroid.columns), centroid], ignore_index=True)\n",
    "        centroid = pd.concat([pd.DataFrame([row_weighted], columns=centroid.columns), centroid], ignore_index=True)\n",
    "\n",
    "    data_with_centroids = pd.concat([data, centroid], ignore_index=True)\n",
    "    data_with_centroids.index.name = \"id\"\n",
    "\n",
    "    data_with_centroids.to_csv(res_path)"
   ]
  },
  {
   "cell_type": "code",
   "execution_count": null,
   "metadata": {},
   "outputs": [],
   "source": [
    "centroid(\"../data/clear results/mod_light.csv\", \"../data/clear results/mod_light_centroid.csv\")"
   ]
  },
  {
   "cell_type": "code",
   "execution_count": null,
   "metadata": {},
   "outputs": [],
   "source": [
    "data = pd.read_csv(\"../data/clear results/mod_light.csv\", index_col=1)\n",
    "data = data.drop(\"fid\", axis=1)\n",
    "data.to_csv(\"../data/clear results/mod_light.csv\")"
   ]
  },
  {
   "cell_type": "code",
   "execution_count": null,
   "metadata": {},
   "outputs": [],
   "source": [
    "data = pd.read_csv(\"../data/lalala.csv\", index_col=0)\n",
    "data"
   ]
  },
  {
   "cell_type": "code",
   "execution_count": null,
   "metadata": {},
   "outputs": [],
   "source": [
    "data.loc[data[\"latitude\"].isnull()]"
   ]
  }
 ],
 "metadata": {
  "kernelspec": {
   "display_name": "venv",
   "language": "python",
   "name": "python3"
  },
  "language_info": {
   "codemirror_mode": {
    "name": "ipython",
    "version": 3
   },
   "file_extension": ".py",
   "mimetype": "text/x-python",
   "name": "python",
   "nbconvert_exporter": "python",
   "pygments_lexer": "ipython3",
   "version": "3.11.4"
  },
  "orig_nbformat": 4
 },
 "nbformat": 4,
 "nbformat_minor": 2
}
