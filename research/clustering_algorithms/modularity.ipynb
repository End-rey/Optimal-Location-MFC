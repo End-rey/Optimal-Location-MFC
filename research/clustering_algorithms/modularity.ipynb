{
 "cells": [
  {
   "cell_type": "code",
   "execution_count": 4,
   "metadata": {},
   "outputs": [],
   "source": [
    "import networkx as nx\n",
    "import pandas as pd\n",
    "\n",
    "G = nx.Graph()"
   ]
  },
  {
   "cell_type": "code",
   "execution_count": 5,
   "metadata": {},
   "outputs": [],
   "source": [
    "edges_df = pd.read_csv('../../data/graph/light_edges.csv')\n",
    "nodes_df = pd.read_csv('../../data/graph/light_nodes.csv')"
   ]
  },
  {
   "cell_type": "code",
   "execution_count": 6,
   "metadata": {},
   "outputs": [],
   "source": [
    "for i, row in nodes_df.iterrows():\n",
    "    G.add_node(row['id'], pos=(row['longitude'], row['latitude']))"
   ]
  },
  {
   "cell_type": "code",
   "execution_count": 7,
   "metadata": {},
   "outputs": [],
   "source": [
    "for i, row in edges_df.iterrows():\n",
    "    G.add_edge(row['source'], row['target'], weight=row['weight'])"
   ]
  },
  {
   "cell_type": "code",
   "execution_count": 8,
   "metadata": {},
   "outputs": [],
   "source": [
    "resolution = 1\n",
    "partition = nx.algorithms.community.greedy_modularity_communities(G, weight='weight')\n",
    "modularity = nx.algorithms.community.modularity(G, partition, weight='weight', resolution=resolution)\n",
    "modularity"
   ]
  },
  {
   "cell_type": "code",
   "execution_count": null,
   "metadata": {},
   "outputs": [],
   "source": [
    "print(\"\\nModularity Clustering:\")\n",
    "for i, cluster in enumerate(partition):\n",
    "    print(f\"Cluster {i} contains nodes: {cluster}\")"
   ]
  },
  {
   "cell_type": "code",
   "execution_count": null,
   "metadata": {},
   "outputs": [],
   "source": [
    "for i, cluster in enumerate(partition):\n",
    "    for node in cluster:\n",
    "        nodes_df.loc[nodes_df['id'] == node, 'modularity_class'] = i\n",
    "nodes_df"
   ]
  },
  {
   "cell_type": "code",
   "execution_count": 12,
   "metadata": {},
   "outputs": [],
   "source": [
    "nodes_df.to_csv(f'mod_R{resolution}_N{len(partition)}_M{round(modularity, 3)}.csv', index=False)"
   ]
  }
 ],
 "metadata": {
  "kernelspec": {
   "display_name": "venv",
   "language": "python",
   "name": "python3"
  },
  "language_info": {
   "codemirror_mode": {
    "name": "ipython",
    "version": 3
   },
   "file_extension": ".py",
   "mimetype": "text/x-python",
   "name": "python",
   "nbconvert_exporter": "python",
   "pygments_lexer": "ipython3",
   "version": "3.11.4"
  }
 },
 "nbformat": 4,
 "nbformat_minor": 2
}
