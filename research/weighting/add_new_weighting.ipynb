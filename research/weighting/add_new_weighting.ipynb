{
 "cells": [
  {
   "cell_type": "code",
   "execution_count": null,
   "metadata": {},
   "outputs": [],
   "source": [
    "import pandas as pd\n",
    "from scipy.spatial import KDTree"
   ]
  },
  {
   "cell_type": "code",
   "execution_count": null,
   "metadata": {},
   "outputs": [],
   "source": [
    "method = \"leiden\"\n",
    "version = \"v4\"\n",
    "old_data_path = f\"../data/clear results/{method}/{version}/{method}.csv\"\n",
    "res_path = f\"../data/clear results/{method}/{version}/{method}_abs_centroid.csv\""
   ]
  },
  {
   "cell_type": "code",
   "execution_count": null,
   "metadata": {},
   "outputs": [],
   "source": [
    "second_path = \"../data/result/subway_passangers_traffic.csv\"\n",
    "second_weight_name = \"Пассажирооборот\"\n",
    "second_type_of_weight = 2"
   ]
  },
  {
   "cell_type": "code",
   "execution_count": null,
   "metadata": {},
   "outputs": [],
   "source": [
    "old_data = pd.read_csv(old_data_path)\n",
    "if \"fid\" in old_data.columns:\n",
    "    old_data = old_data.drop(\"fid\", axis=1)\n",
    "if \"id\" in old_data.columns:\n",
    "    old_data = old_data.set_index(\"id\")\n",
    "old_data"
   ]
  },
  {
   "cell_type": "code",
   "execution_count": null,
   "metadata": {},
   "outputs": [],
   "source": [
    "# old_data = old_data.drop(old_data.loc[old_data[\"type_of_weight\"].isin([10, 11])].index)\n",
    "# old_data"
   ]
  },
  {
   "cell_type": "code",
   "execution_count": null,
   "metadata": {},
   "outputs": [],
   "source": [
    "residents = pd.read_csv(\"../data/result/Residents.csv\", index_col=0)\n",
    "residents"
   ]
  },
  {
   "cell_type": "code",
   "execution_count": null,
   "metadata": {},
   "outputs": [],
   "source": [
    "plan_res = pd.read_csv(second_path)\n",
    "plan_res"
   ]
  },
  {
   "cell_type": "code",
   "execution_count": null,
   "metadata": {},
   "outputs": [],
   "source": [
    "def geo_str_to_list(str_list):\n",
    "    return [[float(c) for c in coor[1:-1].split(\",\")] for coor in str_list]\n",
    "\n",
    "def get_coordinates_values(data):\n",
    "    if \"Геопозиция\" in data.columns:\n",
    "        return geo_str_to_list(data[\"Геопозиция\"].values)\n",
    "    else:\n",
    "        return data[['latitude', 'longitude']].values.tolist()\n",
    "    \n",
    "def apply_geo_class(graph, points, apply_name_column, index_apply_in_graph):\n",
    "    graph_coordinates = get_coordinates_values(graph)\n",
    "    points_coordinates = get_coordinates_values(points)\n",
    "\n",
    "    points_with_class = points.copy()\n",
    "    points_with_class[apply_name_column] = 0\n",
    "\n",
    "    kdtree = KDTree(graph_coordinates)\n",
    "\n",
    "    for i in range(len(points_coordinates)):\n",
    "        query_point = points_coordinates[i]\n",
    "\n",
    "        distance, index = kdtree.query(query_point)\n",
    "\n",
    "        points_with_class.loc[points_with_class.index[i], apply_name_column] = graph.iloc[index, index_apply_in_graph]\n",
    "    \n",
    "    return points_with_class\n",
    "\n",
    "def format(\n",
    "        data, \n",
    "        weight_name:str,\n",
    "        class_name:str=\"class\", \n",
    "        geoposition_name:str=\"Геопозиция\", \n",
    "        normalize:bool=True\n",
    "    ) -> None:\n",
    "\n",
    "    classes = data[class_name].unique()\n",
    "\n",
    "    max_in_class = {}\n",
    "    for cl in classes:\n",
    "        if normalize:\n",
    "            max_value = data.loc[data[class_name] == cl][weight_name].max()\n",
    "        else:\n",
    "            max_value = 1\n",
    "        max_in_class.update({cl: max_value})\n",
    "\n",
    "    new_data = pd.DataFrame({\"id\":[], \"longitude\": [], \"latitude\":[], \"modularity_class\":[], \"weight\":[]})\n",
    "    new_data = new_data.astype({\"id\": int, \"modularity_class\": int, \"weight\": float})\n",
    "\n",
    "    for i in range(data.shape[0]-1, -1, -1):\n",
    "        modularity_class = int(data.iloc[i][class_name])\n",
    "        weight = float(data.iloc[i][weight_name])/max_in_class.get(modularity_class)\n",
    "        latitude, longitude = data.iloc[i][geoposition_name][1:-1].split(\",\")\n",
    "        row = [int(data.iloc[i].name), float(longitude), float(latitude), modularity_class, weight]\n",
    "        new_data = pd.concat([pd.DataFrame([row], columns=new_data.columns), new_data], ignore_index=True)\n",
    "\n",
    "    new_data = new_data.set_index(\"id\")\n",
    "    return new_data\n",
    "\n",
    "def normalize(data, class_name, weight_name):\n",
    "    classes = data[class_name].unique()\n",
    "\n",
    "    max_in_class = {}\n",
    "    for cl in classes:\n",
    "        max_value = data.loc[data[class_name] == cl][weight_name].max()\n",
    "        max_in_class.update({cl: max_value})\n",
    "    \n",
    "    for i in range(data.shape[0]):\n",
    "        data.loc[data.index[i], weight_name] = data.loc[data.index[i], weight_name]/max_in_class.get(data.loc[data.index[i], class_name])\n",
    "        \n",
    "    return data\n",
    "\n",
    "def centroid(\n",
    "        data:pd.DataFrame,\n",
    "        class_name:str = \"modularity_class\", \n",
    "        weight_name:str=\"weight\"\n",
    "    ):\n",
    "\n",
    "    classes = data[class_name].unique()\n",
    "\n",
    "    centroid = pd.DataFrame(columns=data.columns)\n",
    "\n",
    "    for cl in classes:\n",
    "        cluster = data.loc[data[class_name] == cl]\n",
    "        lon = cluster[\"longitude\"].sum()/cluster[\"longitude\"].count()\n",
    "        lat = cluster[\"latitude\"].sum()/cluster[\"latitude\"].count()\n",
    "        # cluster_without_metro = cluster.loc[cluster[\"type_of_weight\"] != 2]\n",
    "        weight = cluster[weight_name].sum()\n",
    "        row = [\n",
    "               lon,\n",
    "               lat,\n",
    "               cl,\n",
    "               weight,\n",
    "               10]\n",
    "        lon_weighted = (cluster[\"longitude\"]*cluster[weight_name]).sum()/cluster[weight_name].sum()\n",
    "        lat_weighted = (cluster[\"latitude\"]*cluster[weight_name]).sum()/cluster[weight_name].sum()\n",
    "        # data_weighted = cluster[weight_name].sum()\n",
    "        row_weighted = [\n",
    "               lon_weighted,\n",
    "               lat_weighted,\n",
    "               cl,\n",
    "               weight,\n",
    "               11]\n",
    "\n",
    "        centroid = pd.concat([pd.DataFrame([row], columns=centroid.columns), centroid], ignore_index=True)\n",
    "        centroid = pd.concat([pd.DataFrame([row_weighted], columns=centroid.columns), centroid], ignore_index=True)\n",
    "\n",
    "    data_with_centroids = pd.concat([data, centroid], ignore_index=True)\n",
    "    data_with_centroids.index.name = \"id\"\n",
    "\n",
    "    return data_with_centroids"
   ]
  },
  {
   "cell_type": "code",
   "execution_count": null,
   "metadata": {},
   "outputs": [],
   "source": [
    "for i in range(old_data.shape[0]):\n",
    "    old_data.loc[old_data.index[i], \"weight\"] = residents.loc[old_data.index[i], \"Кол-во жильцов\"]\n",
    "    \n",
    "old_data"
   ]
  },
  {
   "cell_type": "code",
   "execution_count": null,
   "metadata": {},
   "outputs": [],
   "source": [
    "plan_res_class = apply_geo_class(old_data, plan_res, \"class\", -3)\n",
    "plan_res_class"
   ]
  },
  {
   "cell_type": "code",
   "execution_count": null,
   "metadata": {},
   "outputs": [],
   "source": [
    "format_plan_res = format(plan_res_class, second_weight_name, normalize=False)\n",
    "format_plan_res[\"type_of_weight\"] = second_type_of_weight\n",
    "\n",
    "concat_data = pd.concat([old_data, format_plan_res], ignore_index=True)\n",
    "\n",
    "norm_concat_data = normalize(concat_data, \"modularity_class\", \"weight\")\n",
    "\n",
    "centroid_residents_plan = centroid(norm_concat_data)\n",
    "\n",
    "centroid_residents_plan"
   ]
  },
  {
   "cell_type": "code",
   "execution_count": null,
   "metadata": {},
   "outputs": [],
   "source": [
    "centroid_residents_plan.to_csv(res_path)"
   ]
  },
  {
   "cell_type": "markdown",
   "metadata": {},
   "source": [
    "For Subways"
   ]
  },
  {
   "cell_type": "code",
   "execution_count": null,
   "metadata": {},
   "outputs": [],
   "source": [
    "# format_plan_res = format(plan_res_class, second_weight_name, normalize=True)\n",
    "# format_plan_res[\"type_of_weight\"] = second_type_of_weight\n",
    "\n",
    "# # norm_old_data = normalize(old_data, \"modularity_class\", \"weight\")\n",
    "\n",
    "# concat_data = pd.concat([old_data, format_plan_res], ignore_index=True)\n",
    "\n",
    "# centroid_residents_plan = centroid(concat_data)"
   ]
  },
  {
   "cell_type": "code",
   "execution_count": null,
   "metadata": {},
   "outputs": [],
   "source": [
    "# norm_old_data = normalize(old_data, \"modularity_class\", \"weight\")\n",
    "\n",
    "# centroid_residents_plan = centroid(norm_old_data)"
   ]
  },
  {
   "cell_type": "code",
   "execution_count": null,
   "metadata": {},
   "outputs": [],
   "source": [
    "# format_plan_res = format(plan_res_class, second_weight_name, normalize=False)\n",
    "# format_plan_res[\"type_of_weight\"] = second_type_of_weight\n",
    "# format_plan_res"
   ]
  },
  {
   "cell_type": "code",
   "execution_count": null,
   "metadata": {},
   "outputs": [],
   "source": [
    "# format_plan_res.to_csv(res_path)"
   ]
  },
  {
   "cell_type": "code",
   "execution_count": null,
   "metadata": {},
   "outputs": [],
   "source": [
    "data1 = pd.read_csv(f\"../data/clear results/{method}/{version}/{method}_subway_centroid.csv\", index_col=0)\n",
    "data1"
   ]
  },
  {
   "cell_type": "code",
   "execution_count": null,
   "metadata": {},
   "outputs": [],
   "source": [
    "data2 = pd.read_csv(f\"../data/clear results/{method}/{version}/{method}_abs_centroid.csv\", index_col=0)\n",
    "data2"
   ]
  },
  {
   "cell_type": "code",
   "execution_count": null,
   "metadata": {},
   "outputs": [],
   "source": [
    "for i in range(data1.shape[0]):\n",
    "    data1.iloc[i, -2] = data2.iloc[i, -2]\n",
    "\n",
    "data1"
   ]
  },
  {
   "cell_type": "code",
   "execution_count": null,
   "metadata": {},
   "outputs": [],
   "source": [
    "data1.to_csv(res_path)"
   ]
  },
  {
   "cell_type": "code",
   "execution_count": null,
   "metadata": {},
   "outputs": [],
   "source": [
    "data1.loc[data1[\"type_of_weight\"] == 11].to_csv(f\"../data/clear results/{method}/{version}/{method}_clear_centroid.csv\")"
   ]
  }
 ],
 "metadata": {
  "kernelspec": {
   "display_name": "venv",
   "language": "python",
   "name": "python3"
  },
  "language_info": {
   "codemirror_mode": {
    "name": "ipython",
    "version": 3
   },
   "file_extension": ".py",
   "mimetype": "text/x-python",
   "name": "python",
   "nbconvert_exporter": "python",
   "pygments_lexer": "ipython3",
   "version": "3.11.4"
  },
  "orig_nbformat": 4
 },
 "nbformat": 4,
 "nbformat_minor": 2
}
