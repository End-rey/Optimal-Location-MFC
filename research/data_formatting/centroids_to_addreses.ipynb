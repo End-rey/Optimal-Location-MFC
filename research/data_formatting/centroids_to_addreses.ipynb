{
 "cells": [
  {
   "cell_type": "code",
   "execution_count": null,
   "metadata": {},
   "outputs": [],
   "source": [
    "import pandas as pd\n",
    "from geopy.geocoders import Nominatim"
   ]
  },
  {
   "cell_type": "code",
   "execution_count": null,
   "metadata": {},
   "outputs": [],
   "source": [
    "def is_building_address(location):\n",
    "    # Check if the location name contains keywords indicating a building\n",
    "    building_indicators = [\"house_number\", \"building\", \"apartment\", \"office\", \"shop\"]\n",
    "\n",
    "    for component in location.raw[\"type\"]:\n",
    "        for indicator in building_indicators:\n",
    "            if indicator in component.get(\"types\", []):\n",
    "                return True\n",
    "\n",
    "    return False\n",
    "\n",
    "def get_nearest_address(latitude, longitude):\n",
    "    geolocator = Nominatim(user_agent=\"reverse_geocoding_example\")\n",
    "    location = geolocator.reverse((latitude, longitude), exactly_one=True)\n",
    "\n",
    "    if location is not None:\n",
    "        address = location.address\n",
    "        if is_building_address(address):\n",
    "            return address\n",
    "        else:\n",
    "            return \"Location is not an address of a building\"\n",
    "    else:\n",
    "        return \"No address found for this location\""
   ]
  },
  {
   "cell_type": "code",
   "execution_count": null,
   "metadata": {},
   "outputs": [],
   "source": [
    "folders = [\"leiden\", \"louvain\", \"mod_heavy\", \"mod_light\"]\n",
    "file_names = [\"legal_centroid\", \"plan_centroid\", \"topological\", \"weighted\"]\n",
    "\n",
    "data = pd.DataFrame(columns= [\"id\", \"longitude\", \"latitude\", \"modularity_class\", \"weight\", \"type_of_weight\", \"method\", \"type\"])\n",
    "data = data.set_index(\"id\")\n",
    "\n",
    "shape = 0\n",
    "\n",
    "for folder in folders:\n",
    "    for file_name in file_names:\n",
    "        path = f\"../data/clear results/{folder}/centroids/{file_name}.csv\"\n",
    "        tmp_data = pd.read_csv(path, index_col=1)\n",
    "        tmp_data = tmp_data.drop(\"fid\", axis=1)\n",
    "        tmp_data[\"method\"] = folder\n",
    "        tmp_data[\"type\"] = file_name\n",
    "\n",
    "        shape+=tmp_data.shape[0]\n",
    "\n",
    "        data = pd.concat([data, tmp_data], ignore_index=True)\n",
    "\n",
    "print(shape)\n",
    "data"
   ]
  },
  {
   "cell_type": "code",
   "execution_count": null,
   "metadata": {},
   "outputs": [],
   "source": [
    "for i in range(data.shape[0]):\n",
    "    data.loc[i, \"address\"] = get_nearest_address(api_key, data.loc[i, \"latitude\"], data.loc[i, \"longitude\"])\n",
    "\n",
    "data"
   ]
  },
  {
   "cell_type": "code",
   "execution_count": null,
   "metadata": {},
   "outputs": [],
   "source": [
    "data[\"address\"].unique()"
   ]
  },
  {
   "cell_type": "code",
   "execution_count": null,
   "metadata": {},
   "outputs": [],
   "source": [
    "get_nearest_address(\"59.921652\", \"30.292925\")"
   ]
  },
  {
   "cell_type": "code",
   "execution_count": null,
   "metadata": {},
   "outputs": [],
   "source": []
  }
 ],
 "metadata": {
  "kernelspec": {
   "display_name": "venv",
   "language": "python",
   "name": "python3"
  },
  "language_info": {
   "codemirror_mode": {
    "name": "ipython",
    "version": 3
   },
   "file_extension": ".py",
   "mimetype": "text/x-python",
   "name": "python",
   "nbconvert_exporter": "python",
   "pygments_lexer": "ipython3",
   "version": "3.11.4"
  },
  "orig_nbformat": 4
 },
 "nbformat": 4,
 "nbformat_minor": 2
}
