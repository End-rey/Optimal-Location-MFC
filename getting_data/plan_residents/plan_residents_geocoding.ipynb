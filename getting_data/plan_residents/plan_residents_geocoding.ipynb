{
 "cells": [
  {
   "cell_type": "code",
   "execution_count": null,
   "metadata": {},
   "outputs": [],
   "source": [
    "import pandas as pd"
   ]
  },
  {
   "cell_type": "code",
   "execution_count": null,
   "metadata": {},
   "outputs": [],
   "source": [
    "data = pd.read_csv(\"../../data/План-по-жилью.csv\", index_col=0, encoding=\"utf-8\")\n",
    "data"
   ]
  },
  {
   "cell_type": "code",
   "execution_count": null,
   "metadata": {},
   "outputs": [],
   "source": [
    "data[\"year\"] = data[\"УСТАНОВЛЕННЫЙ РНС СРОК ВВОДА В ЭКСПЛУАТАЦИЮ\"].apply(lambda x: int(x.split(\"/\")[-1]))\n",
    "data"
   ]
  },
  {
   "cell_type": "code",
   "execution_count": null,
   "metadata": {},
   "outputs": [],
   "source": [
    "data.loc[(data[\"year\"] < 2028) & (data[\"year\"] > 2023)]"
   ]
  },
  {
   "cell_type": "code",
   "execution_count": null,
   "metadata": {},
   "outputs": [],
   "source": [
    "data = data.drop(\"ОБЩЕЕ КОЛИЧЕСТВО КВАРТИР ОБЪЕКТА*\", axis=1)\n",
    "data = data.drop(\"Unnamed: 7\", axis=1)\n",
    "data = data.drop(\"Unnamed: 8\", axis=1)\n",
    "data = data.drop(\"Unnamed: 9\", axis=1)\n",
    "data = data.drop(\"Unnamed: 10\", axis=1)\n",
    "data = data.drop(\"Unnamed: 11\", axis=1)\n",
    "data"
   ]
  },
  {
   "cell_type": "code",
   "execution_count": null,
   "metadata": {},
   "outputs": [],
   "source": [
    "data[\"Геопозиция\"] = \"()\""
   ]
  },
  {
   "cell_type": "code",
   "execution_count": null,
   "metadata": {},
   "outputs": [],
   "source": [
    "coef_residents = 0.04\n",
    "\n",
    "def apply_residents(kv:str):\n",
    "    kv = float(kv.strip().replace(\",\", \"\"))\n",
    "    return int(coef_residents*kv)\n",
    "\n",
    "data[\"Кол-во жителей\"] = data[\"ОБЩАЯ ПЛОЩАДЬ ВСЕХ КВАРТИР ОБЪЕКТА*\"].apply(apply_residents)"
   ]
  },
  {
   "cell_type": "code",
   "execution_count": null,
   "metadata": {},
   "outputs": [],
   "source": [
    "for i in range(2025, 2028):\n",
    "    data.loc[data[\"year\"] == i].to_csv(f\"{i}.csv\")"
   ]
  },
  {
   "cell_type": "code",
   "execution_count": null,
   "metadata": {},
   "outputs": [],
   "source": [
    "data1 = pd.read_csv(\"2025.csv\")\n",
    "data1"
   ]
  },
  {
   "cell_type": "code",
   "execution_count": null,
   "metadata": {},
   "outputs": [],
   "source": [
    "plan = []\n",
    "for i in range(2024, 2028):\n",
    "    plan.append(pd.read_csv(f\"../../data/result/{i}.csv\", index_col=0))\n",
    "\n",
    "res = plan[0]\n",
    "for i in range(1,4):\n",
    "    res = pd.concat([res, plan[i]], ignore_index=True)\n",
    "\n",
    "res"
   ]
  },
  {
   "cell_type": "code",
   "execution_count": null,
   "metadata": {},
   "outputs": [],
   "source": [
    "res = res.drop(\"КАДАСТРОВЫЙ НОМЕР ЗЕМЕЛЬНОГО УЧАСТКА\", axis=1)\n",
    "res"
   ]
  },
  {
   "cell_type": "code",
   "execution_count": null,
   "metadata": {},
   "outputs": [],
   "source": [
    "res.to_csv(\"../../data/result/plan_residents.csv\")"
   ]
  },
  {
   "cell_type": "code",
   "execution_count": null,
   "metadata": {},
   "outputs": [],
   "source": [
    "data = pd.read_csv(\"../../data/result/plan_residents.csv\", index_col=0)\n",
    "data"
   ]
  },
  {
   "cell_type": "code",
   "execution_count": null,
   "metadata": {},
   "outputs": [],
   "source": [
    "data[\"Геопозиция\"].to_list()"
   ]
  }
 ],
 "metadata": {
  "kernelspec": {
   "display_name": "venv",
   "language": "python",
   "name": "python3"
  },
  "language_info": {
   "codemirror_mode": {
    "name": "ipython",
    "version": 3
   },
   "file_extension": ".py",
   "mimetype": "text/x-python",
   "name": "python",
   "nbconvert_exporter": "python",
   "pygments_lexer": "ipython3",
   "version": "3.11.4"
  },
  "orig_nbformat": 4
 },
 "nbformat": 4,
 "nbformat_minor": 2
}
