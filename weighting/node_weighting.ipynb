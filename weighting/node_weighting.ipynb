{
 "cells": [
  {
   "cell_type": "code",
   "execution_count": 1,
   "metadata": {},
   "outputs": [],
   "source": [
    "import pandas as pd\n",
    "from scipy.spatial import KDTree"
   ]
  },
  {
   "cell_type": "code",
   "execution_count": 2,
   "metadata": {},
   "outputs": [],
   "source": [
    "def weighting(graph_path, points_path, name_of_weight, top=256, index_of_class_in_graph=-1, index_of_weight_in_points=-1, name_location_points=\"Геопозиция\"):\n",
    "    graph = pd.read_csv(graph_path)\n",
    "    points = pd.read_csv(points_path)\n",
    "\n",
    "    if \"Unnamed: 0\" in graph.columns:\n",
    "        graph = graph.drop(\"Unnamed: 0\", axis=1)\n",
    "\n",
    "    if \"Unnamed: 0\" in points.columns:\n",
    "        points = points.drop(\"Unnamed: 0\", axis=1)\n",
    "\n",
    "    class_in_graph = graph.columns[index_of_class_in_graph]\n",
    "\n",
    "    graph_most_used_clusters = graph.groupby(by=[class_in_graph], as_index=False).count().sort_values(by=\"id\", ascending=False).head(top)\n",
    "    graph_most_used_clusters = graph_most_used_clusters.loc[graph_most_used_clusters[\"id\"] > 100]\n",
    "    graph = graph.loc[graph[class_in_graph].isin(graph_most_used_clusters[class_in_graph])]\n",
    "    graph[\"index\"] = pd.RangeIndex(start=0, stop=graph.shape[0], step=1)\n",
    "    graph = graph.set_index(\"index\")\n",
    "\n",
    "    graph_coordinates = graph[['latitude', 'longitude']].values\n",
    "    points_coordinates = points[name_location_points].values\n",
    "\n",
    "    weighted_graph = graph.copy()\n",
    "    weighted_graph[name_of_weight] = 0\n",
    "\n",
    "    points_with_class = points.copy()\n",
    "    points_with_class[\"class\"] = 0\n",
    "\n",
    "    kdtree = KDTree(graph_coordinates)\n",
    "\n",
    "    for i in range(points_coordinates.shape[0]):\n",
    "        query_point = [float(coor) for coor in points_coordinates[i][1:-1].split(\",\")]\n",
    "    \n",
    "        distance, index = kdtree.query(query_point)\n",
    "\n",
    "        weighted_graph.loc[index, name_of_weight] += points.iloc[i, index_of_weight_in_points]\n",
    "        points_with_class.loc[i, \"class\"] = graph.iloc[index, index_of_class_in_graph]\n",
    "\n",
    "    name_of_graph = graph_path.split(\"/\")[-1].split(\".\")[0]\n",
    "    path_weighted_graph = f\"../data/graph/{name_of_graph}/{name_of_weight}.csv\"\n",
    "    weighted_graph.to_csv(path_weighted_graph)\n",
    "    print(f\"weighted graph saved to {path_weighted_graph}\")\n",
    "\n",
    "    name_of_points = points_path.split(\"/\")[-1].split(\".\")[0]\n",
    "    path_points_with_class = f\"../data/result/{name_of_graph}/{name_of_points}_with_class.csv\"\n",
    "    points_with_class.to_csv(path_points_with_class)\n",
    "    print(f\"points with class saved to {path_points_with_class}\")"
   ]
  }
 ],
 "metadata": {
  "kernelspec": {
   "display_name": "venv",
   "language": "python",
   "name": "python3"
  },
  "language_info": {
   "codemirror_mode": {
    "name": "ipython",
    "version": 3
   },
   "file_extension": ".py",
   "mimetype": "text/x-python",
   "name": "python",
   "nbconvert_exporter": "python",
   "pygments_lexer": "ipython3",
   "version": "3.11.4"
  },
  "orig_nbformat": 4
 },
 "nbformat": 4,
 "nbformat_minor": 2
}
