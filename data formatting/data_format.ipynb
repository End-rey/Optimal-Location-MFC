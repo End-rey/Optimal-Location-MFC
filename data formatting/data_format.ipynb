{
 "cells": [
  {
   "cell_type": "code",
   "execution_count": null,
   "metadata": {},
   "outputs": [],
   "source": [
    "import pandas as pd"
   ]
  },
  {
   "cell_type": "markdown",
   "metadata": {},
   "source": [
    "## Main Format algorithm"
   ]
  },
  {
   "cell_type": "code",
   "execution_count": null,
   "metadata": {},
   "outputs": [],
   "source": [
    "def format(\n",
    "        data_path:str, \n",
    "        res_path:str, \n",
    "        weight_name:str, \n",
    "        class_name:str=\"class\", \n",
    "        geoposition_name:str=\"Геопозиция\", \n",
    "        normalize:bool=True\n",
    "    ) -> None:\n",
    "\n",
    "    data = pd.read_csv(data_path, index_col=0)\n",
    "\n",
    "    classes = data[class_name].unique()\n",
    "\n",
    "    max_in_class = {}\n",
    "    for cl in classes:\n",
    "        if normalize:\n",
    "            max_value = data.loc[data[class_name] == cl][weight_name].max()\n",
    "        else:\n",
    "            max_value = 1\n",
    "        max_in_class.update({cl: max_value})\n",
    "\n",
    "    new_data = pd.DataFrame({\"id\":[], \"longitude\": [], \"latitude\":[], \"modularity_class\":[], \"weight\":[]})\n",
    "    new_data = new_data.astype({\"id\": int, \"modularity_class\": int, \"weight\": float})\n",
    "\n",
    "    for i in range(data.shape[0]-1, -1, -1):\n",
    "        modularity_class = int(data.iloc[i][class_name])\n",
    "        weight = float(data.iloc[i][weight_name])/max_in_class.get(modularity_class)\n",
    "        latitude, longitude = data.iloc[i][geoposition_name][1:-1].split(\",\")\n",
    "        row = [int(data.iloc[i].name), float(longitude), float(latitude), modularity_class, weight]\n",
    "        new_data = pd.concat([pd.DataFrame([row], columns=new_data.columns), new_data], ignore_index=True)\n",
    "\n",
    "    new_data = new_data.set_index(\"id\")\n",
    "\n",
    "    new_data.to_csv(res_path)\n",
    "    print(f\"saved to {res_path}\")"
   ]
  },
  {
   "cell_type": "code",
   "execution_count": null,
   "metadata": {},
   "outputs": [],
   "source": [
    "format(\"../data/result/Nodes (mod-new)20/legal_entities_with_class.csv\", \"legal_entities.csv\", \"Количество торговых объектов местного значения, ед.\", normalize=False)"
   ]
  },
  {
   "cell_type": "code",
   "execution_count": null,
   "metadata": {},
   "outputs": [],
   "source": [
    "format(\"../data/result/leiden_labels/Residents_with_class.csv\", \"../data/format/leiden_labels\", \"Кол-во жильцов\")"
   ]
  },
  {
   "cell_type": "markdown",
   "metadata": {},
   "source": [
    "### Concat"
   ]
  },
  {
   "cell_type": "code",
   "execution_count": null,
   "metadata": {},
   "outputs": [],
   "source": [
    "residents = pd.read_csv(\"../data/format/Nodes (mod-new)20/residents_class.csv\", index_col=0)\n",
    "residents"
   ]
  },
  {
   "cell_type": "code",
   "execution_count": null,
   "metadata": {},
   "outputs": [],
   "source": [
    "residents.loc[0, \"longitude\"]"
   ]
  },
  {
   "cell_type": "code",
   "execution_count": null,
   "metadata": {},
   "outputs": [],
   "source": [
    "residents.iloc[0].name"
   ]
  },
  {
   "cell_type": "code",
   "execution_count": null,
   "metadata": {},
   "outputs": [],
   "source": [
    "subways = pd.read_csv(\"../data/format/Nodes (mod-new)20/subway_class.csv\", index_col=0)\n",
    "subways"
   ]
  },
  {
   "cell_type": "code",
   "execution_count": null,
   "metadata": {},
   "outputs": [],
   "source": [
    "concat_data = pd.concat([residents, subways], ignore_index=True)\n",
    "concat_data"
   ]
  },
  {
   "cell_type": "code",
   "execution_count": null,
   "metadata": {},
   "outputs": [],
   "source": [
    "concat_data.to_csv(\"../data/format/Nodes (mod-new)20/concat_data.csv\")"
   ]
  },
  {
   "cell_type": "markdown",
   "metadata": {},
   "source": [
    "## Class analysis"
   ]
  },
  {
   "cell_type": "code",
   "execution_count": null,
   "metadata": {},
   "outputs": [],
   "source": [
    "class_res = pd.DataFrame({\"class\": [], \"count_addresses\": [], \"mean_res\": [], \"max_res\": [], \"count_more_than_0.5\": [], \"%\":[]})\n",
    "\n",
    "for cl in classes:\n",
    "    tmp = new_data.loc[new_data[\"modularity_class\"] == cl]\n",
    "    count_addresses = tmp[\"residents\"].count()\n",
    "    count_more_than_05 = tmp.loc[tmp[\"residents\"] > 0.5].index.to_list()\n",
    "    row = [cl, \n",
    "           count_addresses,\n",
    "           tmp[\"residents\"].mean(),\n",
    "           tmp[\"residents\"].max(),\n",
    "           count_more_than_05,\n",
    "           len(count_more_than_05)/count_addresses]\n",
    "    class_res = pd.concat([pd.DataFrame([row], columns=class_res.columns), class_res], ignore_index=True)\n",
    "    \n",
    "class_res"
   ]
  },
  {
   "cell_type": "code",
   "execution_count": null,
   "metadata": {},
   "outputs": [],
   "source": [
    "class_res.loc[class_res[\"class\"] == 17021]"
   ]
  },
  {
   "cell_type": "code",
   "execution_count": null,
   "metadata": {},
   "outputs": [],
   "source": [
    "def sort_key(val):\n",
    "    return val.apply(lambda x: len(x))\n",
    "class_res.sort_values(by=\"count_more_than_0.5\", key=sort_key, ascending=False)"
   ]
  },
  {
   "cell_type": "code",
   "execution_count": null,
   "metadata": {},
   "outputs": [],
   "source": [
    "class_res.sort_values(by=\"%\", ascending=False)"
   ]
  },
  {
   "cell_type": "code",
   "execution_count": null,
   "metadata": {},
   "outputs": [],
   "source": [
    "class_res.loc[class_res[\"count_more_than_0.5\"].apply(lambda x: len(x)) == 4]"
   ]
  },
  {
   "cell_type": "markdown",
   "metadata": {},
   "source": [
    "## Formatting MFC data"
   ]
  },
  {
   "cell_type": "code",
   "execution_count": null,
   "metadata": {},
   "outputs": [],
   "source": [
    "data = pd.read_csv(\"../data/raw data/Схема_размещения_МФЦ.csv\", index_col=1)\n",
    "data.index.name = \"id\"\n",
    "data = data.drop(\"Unnamed: 0\", axis=1)\n",
    "# data = data.drop(\"Тип офиса \\n(МФЦ/ ЦОУ)*\", axis=1)\n",
    "data = data.drop(\"Наименование структурного подразделения\", axis=1)\n",
    "data[\"latitude\"] = data[\"Координаты\"].apply(lambda coor: coor.split(\"\\n\")[0])\n",
    "data[\"longitude\"] = data[\"Координаты\"].apply(lambda coor: coor.split(\"\\n\")[1])\n",
    "data = data.drop(\"Координаты\", axis=1)\n",
    "data"
   ]
  },
  {
   "cell_type": "code",
   "execution_count": null,
   "metadata": {},
   "outputs": [],
   "source": [
    "data.to_csv(\"../data/result/mfc.csv\")"
   ]
  },
  {
   "cell_type": "markdown",
   "metadata": {},
   "source": [
    "## osm node format"
   ]
  },
  {
   "cell_type": "code",
   "execution_count": null,
   "metadata": {},
   "outputs": [],
   "source": [
    "data = pd.read_csv(\"../data/result/commercial.csv\", index_col=0)\n",
    "data"
   ]
  },
  {
   "cell_type": "code",
   "execution_count": null,
   "metadata": {},
   "outputs": [],
   "source": [
    "raw_data = pd.read_csv(\"../data/raw data/Нежилые_объекты.csv\")\n",
    "raw_data"
   ]
  },
  {
   "cell_type": "code",
   "execution_count": null,
   "metadata": {},
   "outputs": [],
   "source": [
    "raw_data[\"street\"] = raw_data[\"Дом\"] + \", \" + raw_data[\"Улица\"]"
   ]
  }
 ],
 "metadata": {
  "kernelspec": {
   "display_name": "venv",
   "language": "python",
   "name": "python3"
  },
  "language_info": {
   "codemirror_mode": {
    "name": "ipython",
    "version": 3
   },
   "file_extension": ".py",
   "mimetype": "text/x-python",
   "name": "python",
   "nbconvert_exporter": "python",
   "pygments_lexer": "ipython3",
   "version": "3.11.4"
  },
  "orig_nbformat": 4
 },
 "nbformat": 4,
 "nbformat_minor": 2
}
